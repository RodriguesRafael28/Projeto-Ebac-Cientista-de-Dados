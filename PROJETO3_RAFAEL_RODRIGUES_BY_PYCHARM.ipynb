{
  "nbformat": 4,
  "nbformat_minor": 0,
  "metadata": {
    "colab": {
      "provenance": []
    },
    "kernelspec": {
      "name": "python3",
      "display_name": "Python 3"
    },
    "language_info": {
      "name": "python"
    }
  },
  "cells": [
    {
      "cell_type": "code",
      "execution_count": null,
      "metadata": {
        "id": "5Q_iS7facnuh"
      },
      "outputs": [],
      "source": [
        "import pandas as pd\n",
        "import matplotlib.pyplot as plt\n",
        "import plotly.express as px\n",
        "import numpy as np\n",
        "import seaborn as sns\n",
        "\n",
        "\n",
        "pd.set_option('display.max_columns', None)\n",
        "pd.set_option('display.max_rows', None)\n",
        "pd.set_option('display.width', None)\n",
        "\n",
        "df = pd.read_csv('MODULO7_PROJETOFINAL_BASE_SUPERMERCADO - MODULO7_PROJETOFINAL_BASE_SUPERMERCADO.csv')\n",
        "\n",
        "\n",
        "#média de preço por categoria de produto\n",
        "df.groupby('Categoria')['Preco_Normal'].mean().reset_index().sort_values(by='Preco_Normal', ascending=False)\n",
        "print('\\nMédia de preço por categoria\\n',df.groupby('Categoria')['Preco_Normal'].mean())\n",
        "\n",
        "#mediana de preço por categoria de produto\n",
        "df.groupby('Categoria')['Preco_Normal'].median().reset_index().sort_values(by='Preco_Normal', ascending=False)\n",
        "print('\\nMediana de preço por categoria\\n',df.groupby('Categoria')['Preco_Normal'].median())\n",
        "\n",
        "#desvio padrão por categoria de produto\n",
        "desvio_padra_por_categoria = df.groupby('Categoria')['Preco_Normal'].std().reset_index()\n",
        "print('\\nDesvio padrão por categoria\\n',desvio_padra_por_categoria)\n",
        "\n",
        "#qual comportamento da média e mediana nas categorias com maior desvio padrão? (obs: gerei alguns insghts para exemplificar a análise)\n",
        "\n",
        "#Amplitude de Preços: Todas as categorias exibem uma amplitude considerável nos preços. A categoria de lácteos se destaca por ter a maior variação de preços, o que pode indicar a oferta de grandes variações de produtos e preços, podendo ir de produtos mais simples até os mais sofisticados.\n",
        "#Presença de Itens Mais Caros: Em todas as categorias, a média ser superior à mediana sugere que haver itens com preços mais elevados que puxam o preço médio para cima. A mediana, por outro lado, indica o preço dos produtos mais comum na sua lista.\n",
        "# de Precificação: Essas estatísticas podem refletir uma estratégia de precificação que inclui tanto produtos de entrada (mais acessíveis) quanto produtos premium em diversas categorias.\n",
        "#resumindo, quanto maior a diferença entre a média e a mediana maior será o desvio padrão.\n",
        "\n",
        "\n",
        "df_lacteos = df[df['Categoria'] == 'lacteos']\n",
        "plt.figure(figsize = (10,10))\n",
        "plt.boxplot(df_lacteos['Preco_Normal'])\n",
        "plt.ylabel('Preço Normal', fontsize = 14)\n",
        "plt.grid(True, linestyle = '--', color = 'black')\n",
        "plt.show()\n",
        "\n",
        "#O alto desvio padrão é visualmente explicado pela enorme dispersão dos dados, especialmente pelos outliers que se estendem por uma vasta gama de valores.\n",
        "\n",
        "df['Desconto'] = pd.to_numeric(df['Desconto'], errors='coerce')\n",
        "df_descontos_validos = df[df['Desconto'] > 0].copy()\n",
        "media_descontos_por_categoria = df_descontos_validos.groupby('Categoria')['Desconto'].mean().sort_values(ascending=False)\n",
        "plt.figure(figsize=(12, 8))\n",
        "media_descontos_por_categoria.plot(kind='bar', color='skyblue')\n",
        "plt.title('Média de Descontos por Categoria') # Título do gráfico\n",
        "plt.xlabel('Categoria')\n",
        "plt.ylabel('Média de Desconto')\n",
        "plt.xticks(rotation=45, ha='right')\n",
        "plt.grid(axis='y', linestyle='--', alpha=0.7)\n",
        "plt.tight_layout()\n",
        "plt.show()\n",
        "\n",
        "#obs: as categorias 'frutas', 'instantaneos-y-sopas' e 'verduras' não estão no gráfico pois não possuem descontos conforme mostrado a baixo.\n",
        "\n",
        "print(df.groupby('Categoria')['Desconto'].mean())\n",
        "\n",
        "categoria_marca_mediadesc = df.groupby(['Categoria', 'Marca'])['Desconto'].mean().reset_index()\n",
        "fig = px.treemap(categoria_marca_mediadesc,\n",
        "              path=['Categoria', 'Marca'],\n",
        "              values='Desconto',\n",
        "              title='Categoria e Marca x Desconto',\n",
        "              color='Marca',)\n",
        "fig.show()"
      ]
    }
  ]
}